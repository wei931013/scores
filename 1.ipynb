{
 "cells": [
  {
   "cell_type": "code",
   "execution_count": 1,
   "metadata": {},
   "outputs": [
    {
     "name": "stdout",
     "output_type": "stream",
     "text": [
      "資料庫連線成功！\n",
      " * Serving Flask app '__main__'\n",
      " * Debug mode: off\n"
     ]
    },
    {
     "name": "stderr",
     "output_type": "stream",
     "text": [
      "WARNING: This is a development server. Do not use it in a production deployment. Use a production WSGI server instead.\n",
      " * Running on http://127.0.0.1:5000\n",
      "Press CTRL+C to quit\n"
     ]
    }
   ],
   "source": [
    "# 網頁透過Flask-Alchemy連接資料庫\n",
    "from flask import Flask, render_template\n",
    "from flask_sqlalchemy import SQLAlchemy\n",
    "\n",
    "# create the extension\n",
    "db = SQLAlchemy()\n",
    "# create the app\n",
    "app = Flask(__name__)\n",
    "\n",
    "app.config['SQLALCHEMY_DATABASE_URI'] = 'mssql+pyodbc:///?' \\\n",
    "'driver=ODBC+Driver+17+for+SQL+Server&' \\\n",
    "'trusted_connection=yes&' \\\n",
    "'server=LAPTOP-E523KF0A&' \\\n",
    "'database=testdb1'\n",
    "\n",
    "# initialize the app with the extension\n",
    "db.init_app(app)\n",
    "\n",
    "class score(db.Model):\n",
    "\n",
    "    __tablename__='score' \n",
    "    \n",
    "    編號 = db.Column(db.Integer, primary_key = True)\n",
    "    學校 = db.Column(db.String(200))\n",
    "    公告名額112 = db.Column(db.Integer)\n",
    "    公告名額113 = db.Column(db.Integer)\n",
    "    差額 = db.Column(db.Integer)\n",
    "    累進推估名次113 = db.Column(db.String(200))\n",
    "    回報分數112 = db.Column(db.DECIMAL(4, 1))\n",
    "    預估分數113 = db.Column(db.DECIMAL(4, 1))\n",
    "      \n",
    "    \n",
    "    def __init__(self, 學校, 公告名額112, 公告名額113, 差額, 累進推估名次113, 回報分數112, 預估分數113):\n",
    "       self.學校 = 學校\n",
    "       self.公告名額112 = 公告名額112\n",
    "       self.公告名額113 = 公告名額113\n",
    "       self.差額 = 差額\n",
    "       self.累進推估名次113 = 累進推估名次113\n",
    "       self.回報分數112 = 回報分數112\n",
    "       self.預估分數113 = 預估分數113\n",
    "       \n",
    "# 以上類別建好囉\n",
    "with app.app_context():\n",
    "    # db.drop_all()   #如果資料表已存在就刪除\n",
    "    db.create_all() # #新增資料表\n",
    "print('資料庫連線成功！')\n",
    "\n",
    "import pandas as pd\n",
    "\n",
    "def import_data():\n",
    "    # Read the Excel file\n",
    "    file_path = '落點.xlsx'\n",
    "    df = pd.read_excel(file_path)\n",
    "    \n",
    "    # Iterate over the rows in the DataFrame and add them to the database\n",
    "    for _, row in df.iterrows():\n",
    "        score_record = score(\n",
    "            學校=row['學校'],\n",
    "            公告名額112=row['112公告名額'],\n",
    "            公告名額113=row['113公告名額'],\n",
    "            差額=row['差額'],\n",
    "            累進推估名次113=row['113累進推估名次'],\n",
    "            回報分數112=row['112回報分數'],\n",
    "            預估分數113=row['113預估分數']\n",
    "        )\n",
    "        db.session.add(score_record)\n",
    "    db.session.commit()\n",
    "\n",
    "@app.route(\"/import\")\n",
    "def import_view():\n",
    "    import_data()\n",
    "    return \"Data imported successfully!\"\n",
    "\n",
    "\n",
    "@app.route(\"/scores\")\n",
    "def scores_view():\n",
    "    scores = score.query.limit(57).all()\n",
    "    return render_template(\"scores.html\", scores=scores)\n",
    "\n",
    "app.run()"
   ]
  }
 ],
 "metadata": {
  "kernelspec": {
   "display_name": "Python 3",
   "language": "python",
   "name": "python3"
  },
  "language_info": {
   "codemirror_mode": {
    "name": "ipython",
    "version": 3
   },
   "file_extension": ".py",
   "mimetype": "text/x-python",
   "name": "python",
   "nbconvert_exporter": "python",
   "pygments_lexer": "ipython3",
   "version": "3.12.4"
  }
 },
 "nbformat": 4,
 "nbformat_minor": 2
}
