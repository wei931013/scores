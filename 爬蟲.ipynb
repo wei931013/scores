{
 "cells": [
  {
   "cell_type": "code",
   "execution_count": 6,
   "metadata": {},
   "outputs": [
    {
     "name": "stdout",
     "output_type": "stream",
     "text": [
      "Image tags found in section\n",
      "Image 1 downloaded: https://img.reallygood.com.tw/p20240115RG001_1100_380/toPic.action\n",
      "Image tags found in section\n",
      "Failed to download image https://imgur.com/lBSfQz9.jpg: 429 Client Error: Unknown Error for url: https://imgur.com/lBSfQz9.jpg\n",
      "Image tags found in section\n",
      "Failed to download image https://imgur.com/m9DDygS.jpg: 429 Client Error: Unknown Error for url: https://imgur.com/m9DDygS.jpg\n",
      "All images have been downloaded.\n"
     ]
    }
   ],
   "source": [
    "import requests\n",
    "from bs4 import BeautifulSoup\n",
    "import os\n",
    "import time\n",
    "\n",
    "# 要爬取的目標網址\n",
    "url = 'https://www.reallygood.com.tw/newExam/inside?str=9159FE2044FF163D03CB37F9F63CE3CD'\n",
    "\n",
    "# 發送 GET 請求\n",
    "response = requests.get(url)\n",
    "response.raise_for_status()  # 確保請求成功\n",
    "\n",
    "# 解析 HTML\n",
    "soup = BeautifulSoup(response.text, 'html.parser')\n",
    "\n",
    "# 找到包含目標圖片的部分，這裡假設 class 是 poster\n",
    "sections = soup.find_all('div', class_='poster')\n",
    "\n",
    "# 創建圖片保存資料夾\n",
    "if not os.path.exists('images'):\n",
    "    os.makedirs('images')\n",
    "\n",
    "image_count = 0\n",
    "\n",
    "for section in sections:\n",
    "    # 找到所有圖片標籤\n",
    "    img_tags = section.find_all('img')\n",
    "    \n",
    "    if img_tags:\n",
    "        print(\"Image tags found in section\")\n",
    "        \n",
    "        # 下載並保存圖片\n",
    "        for img in img_tags:\n",
    "            img_url = img.get('src')\n",
    "            if img_url:\n",
    "                # 若圖片 URL 是相對路徑，則補全為絕對路徑\n",
    "                if not img_url.startswith('http'):\n",
    "                    img_url = requests.compat.urljoin(url, img_url)\n",
    "                \n",
    "                # 如果圖片 URL 指向 Imgur 網頁，轉換為指向圖片文件\n",
    "                if 'imgur.com' in img_url and not img_url.endswith(('.jpg', '.png', '.gif')):\n",
    "                    img_url = img_url + '.jpg'\n",
    "                \n",
    "                # 確保圖片 URL 是合法的並能夠訪問\n",
    "                try:\n",
    "                    img_response = requests.get(img_url)\n",
    "                    img_response.raise_for_status()  # 確保請求成功\n",
    "                    \n",
    "                    # 保存圖片\n",
    "                    img_path = os.path.join('images', f'image_{image_count + 1}.jpg')\n",
    "                    with open(img_path, 'wb') as f:\n",
    "                        f.write(img_response.content)\n",
    "                    \n",
    "                    image_count += 1\n",
    "                    print(f'Image {image_count} downloaded: {img_url}')\n",
    "                \n",
    "                except requests.exceptions.RequestException as e:\n",
    "                    print(f\"Failed to download image {img_url}: {e}\")\n",
    "                    # 添加延遲以避免過多請求\n",
    "                    time.sleep(1)\n",
    "    else:\n",
    "        print(\"No image tags found in this section\")\n",
    "\n",
    "print('All images have been downloaded.')\n"
   ]
  }
 ],
 "metadata": {
  "kernelspec": {
   "display_name": "Python 3",
   "language": "python",
   "name": "python3"
  },
  "language_info": {
   "codemirror_mode": {
    "name": "ipython",
    "version": 3
   },
   "file_extension": ".py",
   "mimetype": "text/x-python",
   "name": "python",
   "nbconvert_exporter": "python",
   "pygments_lexer": "ipython3",
   "version": "3.12.4"
  }
 },
 "nbformat": 4,
 "nbformat_minor": 2
}
